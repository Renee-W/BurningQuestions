{
 "cells": [
  {
   "cell_type": "code",
   "execution_count": 1,
   "metadata": {},
   "outputs": [],
   "source": [
    "import warnings\n",
    "warnings.filterwarnings('ignore')\n",
    "%matplotlib inline\n",
    "from matplotlib import pyplot as plt\n",
    "import numpy as np\n",
    "import scipy.stats as stats\n",
    "import pandas as pd"
   ]
  },
  {
   "cell_type": "code",
   "execution_count": 2,
   "metadata": {},
   "outputs": [],
   "source": [
    "precp=pd.DataFrame({\"Year\":['2015', '2016', '2017', '2018', '2019'],\n",
    "   \"PRCP\":[24.62, 19.19, 20.59, 16.45, 21.32]})\n",
    "firect=pd.DataFrame({\"Year\":['2015', '2016', '2017', '2018', '2019'],\n",
    "                     \"Fires\":[602, 954, 794, 1196, 802]})\n",
    "fireacre=pd.DataFrame({\"Year\":['2015', '2016', '2017', '2018', '2019'],\n",
    "                     \"Fires\":[10177.700, 110153.095, 67968.940, 495431.910, 38173.540]})"
   ]
  },
  {
   "cell_type": "code",
   "execution_count": 3,
   "metadata": {},
   "outputs": [
    {
     "data": {
      "text/html": [
       "<div>\n",
       "<style scoped>\n",
       "    .dataframe tbody tr th:only-of-type {\n",
       "        vertical-align: middle;\n",
       "    }\n",
       "\n",
       "    .dataframe tbody tr th {\n",
       "        vertical-align: top;\n",
       "    }\n",
       "\n",
       "    .dataframe thead th {\n",
       "        text-align: right;\n",
       "    }\n",
       "</style>\n",
       "<table border=\"1\" class=\"dataframe\">\n",
       "  <thead>\n",
       "    <tr style=\"text-align: right;\">\n",
       "      <th></th>\n",
       "      <th>Year</th>\n",
       "      <th>FireCount</th>\n",
       "      <th>FireAcres</th>\n",
       "      <th>PRCP</th>\n",
       "    </tr>\n",
       "  </thead>\n",
       "  <tbody>\n",
       "    <tr>\n",
       "      <th>0</th>\n",
       "      <td>2015</td>\n",
       "      <td>602</td>\n",
       "      <td>10177.700</td>\n",
       "      <td>24.62</td>\n",
       "    </tr>\n",
       "    <tr>\n",
       "      <th>1</th>\n",
       "      <td>2016</td>\n",
       "      <td>954</td>\n",
       "      <td>110153.095</td>\n",
       "      <td>19.19</td>\n",
       "    </tr>\n",
       "    <tr>\n",
       "      <th>2</th>\n",
       "      <td>2017</td>\n",
       "      <td>794</td>\n",
       "      <td>67968.940</td>\n",
       "      <td>20.59</td>\n",
       "    </tr>\n",
       "    <tr>\n",
       "      <th>3</th>\n",
       "      <td>2018</td>\n",
       "      <td>1196</td>\n",
       "      <td>495431.910</td>\n",
       "      <td>16.45</td>\n",
       "    </tr>\n",
       "    <tr>\n",
       "      <th>4</th>\n",
       "      <td>2019</td>\n",
       "      <td>802</td>\n",
       "      <td>38173.540</td>\n",
       "      <td>21.32</td>\n",
       "    </tr>\n",
       "  </tbody>\n",
       "</table>\n",
       "</div>"
      ],
      "text/plain": [
       "   Year  FireCount   FireAcres   PRCP\n",
       "0  2015        602   10177.700  24.62\n",
       "1  2016        954  110153.095  19.19\n",
       "2  2017        794   67968.940  20.59\n",
       "3  2018       1196  495431.910  16.45\n",
       "4  2019        802   38173.540  21.32"
      ]
     },
     "execution_count": 3,
     "metadata": {},
     "output_type": "execute_result"
    }
   ],
   "source": [
    "firecombo=pd.merge(firect, fireacre, on='Year')\n",
    "fireprcp=pd.merge(firecombo, precp, on ='Year')\n",
    "fireprcp=fireprcp.rename(columns={\"Fires_x\":\"FireCount\", 'Fires_y': 'FireAcres'})\n",
    "fireprcp"
   ]
  },
  {
   "cell_type": "code",
   "execution_count": 5,
   "metadata": {},
   "outputs": [
    {
     "data": {
      "text/plain": [
       "9.487729036781154"
      ]
     },
     "execution_count": 5,
     "metadata": {},
     "output_type": "execute_result"
    }
   ],
   "source": [
    "critical_value=stats.chi2.ppf(q=0.95, df=4)\n",
    "critical_value"
   ]
  },
  {
   "cell_type": "code",
   "execution_count": 6,
   "metadata": {},
   "outputs": [
    {
     "data": {
      "text/plain": [
       "Power_divergenceResult(statistic=201295.62464678547, pvalue=0.0)"
      ]
     },
     "execution_count": 6,
     "metadata": {},
     "output_type": "execute_result"
    }
   ],
   "source": [
    "# Run the chi square test with stats.chisquare()\n",
    "stats.chisquare(fireprcp['FireCount'], fireprcp['PRCP'])"
   ]
  },
  {
   "cell_type": "code",
   "execution_count": 7,
   "metadata": {},
   "outputs": [
    {
     "data": {
      "text/plain": [
       "Power_divergenceResult(statistic=15848918034.001867, pvalue=0.0)"
      ]
     },
     "execution_count": 7,
     "metadata": {},
     "output_type": "execute_result"
    }
   ],
   "source": [
    "# Run the chi square test with stats.chisquare()\n",
    "stats.chisquare(fireprcp['FireAcres'], fireprcp['PRCP'])"
   ]
  },
  {
   "cell_type": "code",
   "execution_count": 8,
   "metadata": {},
   "outputs": [
    {
     "data": {
      "text/plain": [
       "Power_divergenceResult(statistic=713282.0669711683, pvalue=0.0)"
      ]
     },
     "execution_count": 8,
     "metadata": {},
     "output_type": "execute_result"
    }
   ],
   "source": [
    "# Run the chi square test with stats.chisquare()\n",
    "stats.chisquare(fireprcp['FireCount'], fireprcp['FireAcres'])"
   ]
  },
  {
   "cell_type": "code",
   "execution_count": 9,
   "metadata": {},
   "outputs": [
    {
     "data": {
      "text/plain": [
       "Text(0.5, 1.0, 'Annual Precip by Year in Colorado')"
      ]
     },
     "execution_count": 9,
     "metadata": {},
     "output_type": "execute_result"
    },
    {
     "data": {
      "image/png": "[encoded data removed]",
      "text/plain": [
       "<Figure size 432x288 with 1 Axes>"
      ]
     },
     "metadata": {
      "needs_background": "light"
     },
     "output_type": "display_data"
    }
   ],
   "source": [
    "x_axis=fireprcp['Year']\n",
    "y_axis=fireprcp['PRCP']\n",
    "plt.bar(x_axis, y_axis, color='lightblue', edgecolor='midnightblue', alpha=0.5, align='center')\n",
    "plt.xlabel('Year')\n",
    "plt.ylabel('Precip in Inches')\n",
    "plt.title('Annual Precip by Year in Colorado')\n",
    "\n"
   ]
  },
  {
   "cell_type": "code",
   "execution_count": null,
   "metadata": {},
   "outputs": [],
   "source": []
  },
  {
   "cell_type": "code",
   "execution_count": 10,
   "metadata": {},
   "outputs": [
    {
     "data": {
      "text/plain": [
       "Text(0.5, 1.0, 'Number of Fires by Year in Colorado')"
      ]
     },
     "execution_count": 10,
     "metadata": {},
     "output_type": "execute_result"
    },
    {
     "data": {
      "image/png": "[encoded data removed]",
      "text/plain": [
       "<Figure size 432x288 with 1 Axes>"
      ]
     },
     "metadata": {
      "needs_background": "light"
     },
     "output_type": "display_data"
    }
   ],
   "source": [
    "x_axis=fireprcp['Year']\n",
    "y_axis=fireprcp['FireCount']\n",
    "plt.bar(x_axis, y_axis, color='darkorange', edgecolor='darkred', alpha=0.5, align='center')\n",
    "plt.xlabel('Year')\n",
    "plt.ylabel('Precip in Inches')\n",
    "plt.title('Number of Fires by Year in Colorado')"
   ]
  },
  {
   "cell_type": "code",
   "execution_count": 13,
   "metadata": {},
   "outputs": [
    {
     "data": {
      "image/png": "[encoded data removed]",
      "text/plain": [
       "<Figure size 432x288 with 2 Axes>"
      ]
     },
     "metadata": {
      "needs_background": "light"
     },
     "output_type": "display_data"
    }
   ],
   "source": [
    "fig=plt.figure()\n",
    "ax=fig.add_subplot(111)\n",
    "ax2=ax.twinx()\n",
    "width=0.4\n",
    "fireprcp.FireCount.plot(kind='bar', color='peachpuff', edgecolor='darkred', ax=ax, width=width, position=1)\n",
    "fireprcp.PRCP.plot(kind='bar', color='lightblue', edgecolor='lightslategray', ax=ax2, width=width, position=0)\n",
    "\n",
    "#labels = ['2015', '2016', '2017', '2018', '2019', '2020']\n",
    "#plt.xticks('2015', '2016')\n",
    "#plt.xticks(x, labels)\n",
    "ax.set_ylabel('Fire Count')\n",
    "ax2.set_ylabel('Precipitation')\n",
    "ax.set_xlabel('Year')\n",
    "plt.title('Number of Fires and Precipitation in Colorado')\n",
    "plt.show()"
   ]
  },
  {
   "cell_type": "code",
   "execution_count": 14,
   "metadata": {},
   "outputs": [
    {
     "data": {
      "image/png": "[encoded data removed]",
      "text/plain": [
       "<Figure size 432x288 with 2 Axes>"
      ]
     },
     "metadata": {
      "needs_background": "light"
     },
     "output_type": "display_data"
    }
   ],
   "source": [
    "fig=plt.figure()\n",
    "ax=fig.add_subplot(111)\n",
    "ax2=ax.twinx()\n",
    "width=0.4\n",
    "fireprcp.FireAcres.plot(kind='bar', color='red', ax=ax, width=width, position=1)\n",
    "fireprcp.PRCP.plot(kind='bar', color='blue', ax=ax2, width=width, position=0)\n",
    "\n",
    "ax.set_ylabel('Fire Acres')\n",
    "ax2.set_ylabel('Precipitation')\n",
    "plt.title('Number of Acres and Precipitation in Colorado')\n",
    "plt.show()"
   ]
  },
  {
   "cell_type": "code",
   "execution_count": 15,
   "metadata": {},
   "outputs": [],
   "source": [
    "# # Histogram Plot of Da\n",
    "# plt.subplot(2, 1, 2)\n",
    "# plt.hist(precp, 10, density=True, alpha=0.7, label=\"precipitation\")\n",
    "# plt.hist(firect, 10, density=True, alpha=0.7, label=\"firect\")\n",
    "# plt.axvline(precp.mean(), color='k', linestyle='dashed', linewidth=1)\n",
    "# plt.axvline(fireact.mean(), color='k', linestyle='dashed', linewidth=1)\n",
    "# plt.legend()  \n",
    "    \n",
    "# return precp, firect"
   ]
  },
  {
   "cell_type": "code",
   "execution_count": 16,
   "metadata": {},
   "outputs": [
    {
     "data": {
      "text/html": [
       "<div>\n",
       "<style scoped>\n",
       "    .dataframe tbody tr th:only-of-type {\n",
       "        vertical-align: middle;\n",
       "    }\n",
       "\n",
       "    .dataframe tbody tr th {\n",
       "        vertical-align: top;\n",
       "    }\n",
       "\n",
       "    .dataframe thead th {\n",
       "        text-align: right;\n",
       "    }\n",
       "</style>\n",
       "<table border=\"1\" class=\"dataframe\">\n",
       "  <thead>\n",
       "    <tr style=\"text-align: right;\">\n",
       "      <th></th>\n",
       "      <th>Year</th>\n",
       "      <th>FireCount</th>\n",
       "      <th>FireAcres</th>\n",
       "      <th>PRCP</th>\n",
       "    </tr>\n",
       "  </thead>\n",
       "  <tbody>\n",
       "    <tr>\n",
       "      <th>0</th>\n",
       "      <td>2015</td>\n",
       "      <td>602</td>\n",
       "      <td>10177.700</td>\n",
       "      <td>24.62</td>\n",
       "    </tr>\n",
       "    <tr>\n",
       "      <th>1</th>\n",
       "      <td>2016</td>\n",
       "      <td>954</td>\n",
       "      <td>110153.095</td>\n",
       "      <td>19.19</td>\n",
       "    </tr>\n",
       "    <tr>\n",
       "      <th>2</th>\n",
       "      <td>2017</td>\n",
       "      <td>794</td>\n",
       "      <td>67968.940</td>\n",
       "      <td>20.59</td>\n",
       "    </tr>\n",
       "    <tr>\n",
       "      <th>3</th>\n",
       "      <td>2018</td>\n",
       "      <td>1196</td>\n",
       "      <td>495431.910</td>\n",
       "      <td>16.45</td>\n",
       "    </tr>\n",
       "    <tr>\n",
       "      <th>4</th>\n",
       "      <td>2019</td>\n",
       "      <td>802</td>\n",
       "      <td>38173.540</td>\n",
       "      <td>21.32</td>\n",
       "    </tr>\n",
       "  </tbody>\n",
       "</table>\n",
       "</div>"
      ],
      "text/plain": [
       "   Year  FireCount   FireAcres   PRCP\n",
       "0  2015        602   10177.700  24.62\n",
       "1  2016        954  110153.095  19.19\n",
       "2  2017        794   67968.940  20.59\n",
       "3  2018       1196  495431.910  16.45\n",
       "4  2019        802   38173.540  21.32"
      ]
     },
     "execution_count": 16,
     "metadata": {},
     "output_type": "execute_result"
    }
   ],
   "source": [
    "fireprcp"
   ]
  },
  {
   "cell_type": "code",
   "execution_count": 17,
   "metadata": {},
   "outputs": [
    {
     "name": "stdout",
     "output_type": "stream",
     "text": [
      "sum of precip=102.17000000000002,sum of fire 4348, sum of acres 721905.185\n"
     ]
    }
   ],
   "source": [
    "precpsum=(fireprcp['PRCP']).sum()\n",
    "firesum=(fireprcp['FireCount']).sum()\n",
    "acressum=(fireprcp['FireAcres']).sum()\n",
    "print(f'sum of precip={precpsum},sum of fire {firesum}, sum of acres {acressum}')"
   ]
  },
  {
   "cell_type": "code",
   "execution_count": 18,
   "metadata": {},
   "outputs": [
    {
     "data": {
      "text/html": [
       "<div>\n",
       "<style scoped>\n",
       "    .dataframe tbody tr th:only-of-type {\n",
       "        vertical-align: middle;\n",
       "    }\n",
       "\n",
       "    .dataframe tbody tr th {\n",
       "        vertical-align: top;\n",
       "    }\n",
       "\n",
       "    .dataframe thead th {\n",
       "        text-align: right;\n",
       "    }\n",
       "</style>\n",
       "<table border=\"1\" class=\"dataframe\">\n",
       "  <thead>\n",
       "    <tr style=\"text-align: right;\">\n",
       "      <th></th>\n",
       "      <th>Year</th>\n",
       "      <th>FireCount</th>\n",
       "      <th>FireAcres</th>\n",
       "      <th>PRCP</th>\n",
       "      <th>AvePRCP</th>\n",
       "      <th>AveCount</th>\n",
       "      <th>AveAcres</th>\n",
       "    </tr>\n",
       "  </thead>\n",
       "  <tbody>\n",
       "    <tr>\n",
       "      <th>0</th>\n",
       "      <td>2015</td>\n",
       "      <td>602</td>\n",
       "      <td>10177.700</td>\n",
       "      <td>24.62</td>\n",
       "      <td>21.163930</td>\n",
       "      <td>11.094729</td>\n",
       "      <td>0.755436</td>\n",
       "    </tr>\n",
       "    <tr>\n",
       "      <th>1</th>\n",
       "      <td>2016</td>\n",
       "      <td>954</td>\n",
       "      <td>110153.095</td>\n",
       "      <td>19.19</td>\n",
       "      <td>16.496175</td>\n",
       "      <td>17.582013</td>\n",
       "      <td>8.176076</td>\n",
       "    </tr>\n",
       "    <tr>\n",
       "      <th>2</th>\n",
       "      <td>2017</td>\n",
       "      <td>794</td>\n",
       "      <td>67968.940</td>\n",
       "      <td>20.59</td>\n",
       "      <td>17.699648</td>\n",
       "      <td>14.633247</td>\n",
       "      <td>5.044971</td>\n",
       "    </tr>\n",
       "    <tr>\n",
       "      <th>3</th>\n",
       "      <td>2018</td>\n",
       "      <td>1196</td>\n",
       "      <td>495431.910</td>\n",
       "      <td>16.45</td>\n",
       "      <td>14.140806</td>\n",
       "      <td>22.042020</td>\n",
       "      <td>36.773264</td>\n",
       "    </tr>\n",
       "    <tr>\n",
       "      <th>4</th>\n",
       "      <td>2019</td>\n",
       "      <td>802</td>\n",
       "      <td>38173.540</td>\n",
       "      <td>21.32</td>\n",
       "      <td>18.327173</td>\n",
       "      <td>14.780686</td>\n",
       "      <td>2.833418</td>\n",
       "    </tr>\n",
       "  </tbody>\n",
       "</table>\n",
       "</div>"
      ],
      "text/plain": [
       "   Year  FireCount   FireAcres   PRCP    AvePRCP   AveCount   AveAcres\n",
       "0  2015        602   10177.700  24.62  21.163930  11.094729   0.755436\n",
       "1  2016        954  110153.095  19.19  16.496175  17.582013   8.176076\n",
       "2  2017        794   67968.940  20.59  17.699648  14.633247   5.044971\n",
       "3  2018       1196  495431.910  16.45  14.140806  22.042020  36.773264\n",
       "4  2019        802   38173.540  21.32  18.327173  14.780686   2.833418"
      ]
     },
     "execution_count": 18,
     "metadata": {},
     "output_type": "execute_result"
    }
   ],
   "source": [
    "percent=fireprcp[['Year', 'FireCount', 'FireAcres', 'PRCP']]\n",
    "percent['AvePRCP']=((percent['PRCP']/116.33)*100)\n",
    "percent['AveCount']=((percent['FireCount']/5426)*100)\n",
    "percent['AveAcres']=((percent['FireAcres']/1347261.185)*100)\n",
    "\n",
    "percent"
   ]
  },
  {
   "cell_type": "code",
   "execution_count": 19,
   "metadata": {},
   "outputs": [
    {
     "data": {
      "text/plain": [
       "Power_divergenceResult(statistic=10.49446276512602, pvalue=0.03287334947761406)"
      ]
     },
     "execution_count": 19,
     "metadata": {},
     "output_type": "execute_result"
    }
   ],
   "source": [
    "# Run the chi square test with stats.chisquare()\n",
    "stats.chisquare(percent['AveCount'], percent['AvePRCP'])"
   ]
  },
  {
   "cell_type": "code",
   "execution_count": 20,
   "metadata": {},
   "outputs": [
    {
     "data": {
      "text/plain": [
       "Power_divergenceResult(statistic=82.24586931926497, pvalue=5.821769654576744e-17)"
      ]
     },
     "execution_count": 20,
     "metadata": {},
     "output_type": "execute_result"
    }
   ],
   "source": [
    "# Run the chi square test with stats.chisquare()\n",
    "stats.chisquare(percent['AveAcres'], percent['AvePRCP'])"
   ]
  },
  {
   "cell_type": "code",
   "execution_count": 21,
   "metadata": {},
   "outputs": [
    {
     "data": {
      "text/plain": [
       "Power_divergenceResult(statistic=226.83043992875378, pvalue=6.351548307145906e-48)"
      ]
     },
     "execution_count": 21,
     "metadata": {},
     "output_type": "execute_result"
    }
   ],
   "source": [
    "# Run the chi square test with stats.chisquare()\n",
    "stats.chisquare(percent['AveCount'], percent['AveAcres'])"
   ]
  },
  {
   "cell_type": "code",
   "execution_count": 23,
   "metadata": {},
   "outputs": [
    {
     "data": {
      "image/png": "[encoded data removed]",
      "text/plain": [
       "<Figure size 432x288 with 1 Axes>"
      ]
     },
     "metadata": {
      "needs_background": "light"
     },
     "output_type": "display_data"
    }
   ],
   "source": [
    "#plot together\n",
    "width=0.8\n",
    "highPower=(percent['AveCount'])\n",
    "lowPower=(percent['AvePRCP'])\n",
    "\n",
    "\n",
    "indices = np.arange(len(highPower))\n",
    "#indices=(percent['Year'])\n",
    "\n",
    "plt.bar(indices, highPower, width=width, \n",
    "        color='peachpuff', edgecolor='darkred', label='Fire Count')\n",
    "plt.bar([i+0.25*width for i in indices], lowPower, \n",
    "        width=0.75*width, color='lightblue', edgecolor='lightslategray', alpha=0.5, label='Precipitation')\n",
    "\n",
    "#plt.xticks()\n",
    "\n",
    "plt.xticks(indices+width/2., \n",
    "           ['T{}'.format(i) for i in range(len(highPower))] )\n",
    "plt.title('Number of Fires and Precipitation in Colorado')\n",
    "# plt.legend()\n",
    "plt.show()\n"
   ]
  },
  {
   "cell_type": "code",
   "execution_count": 92,
   "metadata": {},
   "outputs": [
    {
     "data": {
      "text/plain": [
       "array([0, 1, 2, 3, 4, 5])"
      ]
     },
     "execution_count": 92,
     "metadata": {},
     "output_type": "execute_result"
    }
   ],
   "source": [
    "indices"
   ]
  },
  {
   "cell_type": "code",
   "execution_count": null,
   "metadata": {},
   "outputs": [],
   "source": [
    "#create graph\n"
   ]
  }
 ],
 "metadata": {
  "kernelspec": {
   "display_name": "Python 3",
   "language": "python",
   "name": "python3"
  },
  "language_info": {
   "codemirror_mode": {
    "name": "ipython",
    "version": 3
   },
   "file_extension": ".py",
   "mimetype": "text/x-python",
   "name": "python",
   "nbconvert_exporter": "python",
   "pygments_lexer": "ipython3",
   "version": "3.8.5"
  }
 },
 "nbformat": 4,
 "nbformat_minor": 4
}
