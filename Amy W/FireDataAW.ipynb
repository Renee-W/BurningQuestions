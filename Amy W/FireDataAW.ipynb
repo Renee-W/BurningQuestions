{
 "cells": [
  {
   "cell_type": "code",
   "execution_count": 2,
   "metadata": {},
   "outputs": [
    {
     "data": {
      "text/html": [
       "<div>\n",
       "<style scoped>\n",
       "    .dataframe tbody tr th:only-of-type {\n",
       "        vertical-align: middle;\n",
       "    }\n",
       "\n",
       "    .dataframe tbody tr th {\n",
       "        vertical-align: top;\n",
       "    }\n",
       "\n",
       "    .dataframe thead th {\n",
       "        text-align: right;\n",
       "    }\n",
       "</style>\n",
       "<table border=\"1\" class=\"dataframe\">\n",
       "  <thead>\n",
       "    <tr style=\"text-align: right;\">\n",
       "      <th></th>\n",
       "      <th>Unnamed: 0</th>\n",
       "      <th>Index</th>\n",
       "      <th>Fire ID</th>\n",
       "      <th>Cause</th>\n",
       "      <th>Latitude</th>\n",
       "      <th>Longitude</th>\n",
       "      <th>Country</th>\n",
       "      <th>State</th>\n",
       "      <th>Acres Burned</th>\n",
       "      <th>Discovery Year</th>\n",
       "      <th>Discovery Month</th>\n",
       "      <th>Discovery Day</th>\n",
       "      <th>Out Year</th>\n",
       "      <th>Out Month</th>\n",
       "      <th>Out Day</th>\n",
       "    </tr>\n",
       "  </thead>\n",
       "  <tbody>\n",
       "    <tr>\n",
       "      <th>0</th>\n",
       "      <td>0</td>\n",
       "      <td>1</td>\n",
       "      <td>2020-MTLG42-000224</td>\n",
       "      <td>Human</td>\n",
       "      <td>45.785037</td>\n",
       "      <td>-104.457511</td>\n",
       "      <td>US</td>\n",
       "      <td>MT</td>\n",
       "      <td>50.6</td>\n",
       "      <td>2020</td>\n",
       "      <td>8</td>\n",
       "      <td>6</td>\n",
       "      <td>2020</td>\n",
       "      <td>8</td>\n",
       "      <td>6</td>\n",
       "    </tr>\n",
       "    <tr>\n",
       "      <th>1</th>\n",
       "      <td>2</td>\n",
       "      <td>3</td>\n",
       "      <td>2017-MTNWS-000878</td>\n",
       "      <td>Human</td>\n",
       "      <td>48.073946</td>\n",
       "      <td>-114.835414</td>\n",
       "      <td>US</td>\n",
       "      <td>MT</td>\n",
       "      <td>50.0</td>\n",
       "      <td>2017</td>\n",
       "      <td>10</td>\n",
       "      <td>17</td>\n",
       "      <td>2017</td>\n",
       "      <td>10</td>\n",
       "      <td>17</td>\n",
       "    </tr>\n",
       "    <tr>\n",
       "      <th>2</th>\n",
       "      <td>5</td>\n",
       "      <td>6</td>\n",
       "      <td>2020-MSMNF-000308</td>\n",
       "      <td>Human</td>\n",
       "      <td>31.068196</td>\n",
       "      <td>-89.069725</td>\n",
       "      <td>US</td>\n",
       "      <td>MS</td>\n",
       "      <td>1.0</td>\n",
       "      <td>2020</td>\n",
       "      <td>11</td>\n",
       "      <td>23</td>\n",
       "      <td>2020</td>\n",
       "      <td>11</td>\n",
       "      <td>23</td>\n",
       "    </tr>\n",
       "    <tr>\n",
       "      <th>3</th>\n",
       "      <td>6</td>\n",
       "      <td>7</td>\n",
       "      <td>2019-UTUWF-000883</td>\n",
       "      <td>Unknown</td>\n",
       "      <td>40.072836</td>\n",
       "      <td>-111.414812</td>\n",
       "      <td>US</td>\n",
       "      <td>UT</td>\n",
       "      <td>170.0</td>\n",
       "      <td>2019</td>\n",
       "      <td>10</td>\n",
       "      <td>26</td>\n",
       "      <td>2019</td>\n",
       "      <td>10</td>\n",
       "      <td>26</td>\n",
       "    </tr>\n",
       "    <tr>\n",
       "      <th>4</th>\n",
       "      <td>7</td>\n",
       "      <td>8</td>\n",
       "      <td>2020-MTCES-006641</td>\n",
       "      <td>Natural</td>\n",
       "      <td>44.637596</td>\n",
       "      <td>-111.575112</td>\n",
       "      <td>US</td>\n",
       "      <td>MT</td>\n",
       "      <td>0.1</td>\n",
       "      <td>2020</td>\n",
       "      <td>8</td>\n",
       "      <td>27</td>\n",
       "      <td>2020</td>\n",
       "      <td>8</td>\n",
       "      <td>27</td>\n",
       "    </tr>\n",
       "  </tbody>\n",
       "</table>\n",
       "</div>"
      ],
      "text/plain": [
       "   Unnamed: 0  Index             Fire ID    Cause   Latitude   Longitude  \\\n",
       "0           0      1  2020-MTLG42-000224    Human  45.785037 -104.457511   \n",
       "1           2      3   2017-MTNWS-000878    Human  48.073946 -114.835414   \n",
       "2           5      6   2020-MSMNF-000308    Human  31.068196  -89.069725   \n",
       "3           6      7   2019-UTUWF-000883  Unknown  40.072836 -111.414812   \n",
       "4           7      8   2020-MTCES-006641  Natural  44.637596 -111.575112   \n",
       "\n",
       "  Country State  Acres Burned  Discovery Year  Discovery Month  Discovery Day  \\\n",
       "0      US    MT          50.6            2020                8              6   \n",
       "1      US    MT          50.0            2017               10             17   \n",
       "2      US    MS           1.0            2020               11             23   \n",
       "3      US    UT         170.0            2019               10             26   \n",
       "4      US    MT           0.1            2020                8             27   \n",
       "\n",
       "   Out Year  Out Month  Out Day  \n",
       "0      2020          8        6  \n",
       "1      2017         10       17  \n",
       "2      2020         11       23  \n",
       "3      2019         10       26  \n",
       "4      2020          8       27  "
      ]
     },
     "execution_count": 2,
     "metadata": {},
     "output_type": "execute_result"
    }
   ],
   "source": [
    "# Dependencies and Setup\n",
    "import matplotlib.pyplot as plt\n",
    "import pandas as pd\n",
    "import numpy as np\n",
    "import requests\n",
    "import time\n",
    "from citipy import citipy\n",
    "\n",
    "#import & read csv\n",
    "firedata_csv=\"../source_data/trimmed_and_cleaner_wildland_fire.csv\"\n",
    "firedata_df=pd.read_csv(firedata_csv)\n",
    "\n",
    "firedata_df.head()"
   ]
  },
  {
   "cell_type": "code",
   "execution_count": 3,
   "metadata": {},
   "outputs": [
    {
     "data": {
      "text/html": [
       "<div>\n",
       "<style scoped>\n",
       "    .dataframe tbody tr th:only-of-type {\n",
       "        vertical-align: middle;\n",
       "    }\n",
       "\n",
       "    .dataframe tbody tr th {\n",
       "        vertical-align: top;\n",
       "    }\n",
       "\n",
       "    .dataframe thead th {\n",
       "        text-align: right;\n",
       "    }\n",
       "</style>\n",
       "<table border=\"1\" class=\"dataframe\">\n",
       "  <thead>\n",
       "    <tr style=\"text-align: right;\">\n",
       "      <th></th>\n",
       "      <th>Acres Burned</th>\n",
       "    </tr>\n",
       "    <tr>\n",
       "      <th>Cause</th>\n",
       "      <th></th>\n",
       "    </tr>\n",
       "  </thead>\n",
       "  <tbody>\n",
       "    <tr>\n",
       "      <th>Human</th>\n",
       "      <td>8.295685e+06</td>\n",
       "    </tr>\n",
       "    <tr>\n",
       "      <th>Natural</th>\n",
       "      <td>2.479570e+07</td>\n",
       "    </tr>\n",
       "    <tr>\n",
       "      <th>Undetermined</th>\n",
       "      <td>2.751089e+06</td>\n",
       "    </tr>\n",
       "    <tr>\n",
       "      <th>Unknown</th>\n",
       "      <td>6.311720e+06</td>\n",
       "    </tr>\n",
       "  </tbody>\n",
       "</table>\n",
       "</div>"
      ],
      "text/plain": [
       "              Acres Burned\n",
       "Cause                     \n",
       "Human         8.295685e+06\n",
       "Natural       2.479570e+07\n",
       "Undetermined  2.751089e+06\n",
       "Unknown       6.311720e+06"
      ]
     },
     "execution_count": 3,
     "metadata": {},
     "output_type": "execute_result"
    }
   ],
   "source": [
    "# Sum Acreage by Fire Cause for all of US\n",
    "cause_group = firedata_df.groupby(\"Cause\")\n",
    "cause_group_df = pd.DataFrame(cause_group[\"Acres Burned\"].sum())\n",
    "cause_group_df\n"
   ]
  },
  {
   "cell_type": "code",
   "execution_count": 4,
   "metadata": {},
   "outputs": [
    {
     "data": {
      "image/png": "[encoded data removed]",
      "text/plain": [
       "<Figure size 432x288 with 1 Axes>"
      ]
     },
     "metadata": {},
     "output_type": "display_data"
    }
   ],
   "source": [
    "# Create Pie Graph for Fires burned by Cause for all of the U.S. for all years in dataset\n",
    "pie_chart = cause_group_df.plot(kind=\"pie\", y=\"Acres Burned\",title = \"Acres burned by Cause for all of the U.S.\", \n",
    "                              startangle = 120, autopct='%1.1f%%', shadow=True, \n",
    "                              fontsize=12, colors=(\"green\",\"gold\", \"red\", \"blue\"), legend=False)\n",
    "\n",
    "plt.show()"
   ]
  },
  {
   "cell_type": "code",
   "execution_count": 5,
   "metadata": {},
   "outputs": [
    {
     "data": {
      "text/html": [
       "<div>\n",
       "<style scoped>\n",
       "    .dataframe tbody tr th:only-of-type {\n",
       "        vertical-align: middle;\n",
       "    }\n",
       "\n",
       "    .dataframe tbody tr th {\n",
       "        vertical-align: top;\n",
       "    }\n",
       "\n",
       "    .dataframe thead th {\n",
       "        text-align: right;\n",
       "    }\n",
       "</style>\n",
       "<table border=\"1\" class=\"dataframe\">\n",
       "  <thead>\n",
       "    <tr style=\"text-align: right;\">\n",
       "      <th></th>\n",
       "      <th>Unnamed: 0</th>\n",
       "      <th>Index</th>\n",
       "      <th>Fire ID</th>\n",
       "      <th>Cause</th>\n",
       "      <th>Latitude</th>\n",
       "      <th>Longitude</th>\n",
       "      <th>Country</th>\n",
       "      <th>State</th>\n",
       "      <th>Acres Burned</th>\n",
       "      <th>Discovery Year</th>\n",
       "      <th>Discovery Month</th>\n",
       "      <th>Discovery Day</th>\n",
       "      <th>Out Year</th>\n",
       "      <th>Out Month</th>\n",
       "      <th>Out Day</th>\n",
       "    </tr>\n",
       "  </thead>\n",
       "  <tbody>\n",
       "    <tr>\n",
       "      <th>14</th>\n",
       "      <td>28</td>\n",
       "      <td>30</td>\n",
       "      <td>2015-COGWD-000216</td>\n",
       "      <td>Human</td>\n",
       "      <td>39.622206</td>\n",
       "      <td>-106.904911</td>\n",
       "      <td>US</td>\n",
       "      <td>CO</td>\n",
       "      <td>0.1</td>\n",
       "      <td>2015</td>\n",
       "      <td>7</td>\n",
       "      <td>5</td>\n",
       "      <td>2015</td>\n",
       "      <td>7</td>\n",
       "      <td>5</td>\n",
       "    </tr>\n",
       "    <tr>\n",
       "      <th>15</th>\n",
       "      <td>29</td>\n",
       "      <td>31</td>\n",
       "      <td>2019-COMFX-000187</td>\n",
       "      <td>Human</td>\n",
       "      <td>40.239896</td>\n",
       "      <td>-108.895411</td>\n",
       "      <td>US</td>\n",
       "      <td>CO</td>\n",
       "      <td>90.0</td>\n",
       "      <td>2019</td>\n",
       "      <td>7</td>\n",
       "      <td>28</td>\n",
       "      <td>2019</td>\n",
       "      <td>7</td>\n",
       "      <td>28</td>\n",
       "    </tr>\n",
       "    <tr>\n",
       "      <th>19</th>\n",
       "      <td>33</td>\n",
       "      <td>35</td>\n",
       "      <td>2018-COUPD-000251</td>\n",
       "      <td>Unknown</td>\n",
       "      <td>38.145376</td>\n",
       "      <td>-108.552111</td>\n",
       "      <td>US</td>\n",
       "      <td>CO</td>\n",
       "      <td>0.1</td>\n",
       "      <td>2018</td>\n",
       "      <td>7</td>\n",
       "      <td>28</td>\n",
       "      <td>2018</td>\n",
       "      <td>7</td>\n",
       "      <td>28</td>\n",
       "    </tr>\n",
       "    <tr>\n",
       "      <th>22</th>\n",
       "      <td>37</td>\n",
       "      <td>41</td>\n",
       "      <td>2017-COWRD-000097</td>\n",
       "      <td>Undetermined</td>\n",
       "      <td>39.860576</td>\n",
       "      <td>-108.318411</td>\n",
       "      <td>US</td>\n",
       "      <td>CO</td>\n",
       "      <td>1.0</td>\n",
       "      <td>2017</td>\n",
       "      <td>6</td>\n",
       "      <td>12</td>\n",
       "      <td>2017</td>\n",
       "      <td>6</td>\n",
       "      <td>12</td>\n",
       "    </tr>\n",
       "    <tr>\n",
       "      <th>45</th>\n",
       "      <td>86</td>\n",
       "      <td>94</td>\n",
       "      <td>2015-COGRX-000446</td>\n",
       "      <td>Natural</td>\n",
       "      <td>39.921107</td>\n",
       "      <td>-106.136210</td>\n",
       "      <td>US</td>\n",
       "      <td>CO</td>\n",
       "      <td>0.2</td>\n",
       "      <td>2015</td>\n",
       "      <td>9</td>\n",
       "      <td>25</td>\n",
       "      <td>2015</td>\n",
       "      <td>9</td>\n",
       "      <td>25</td>\n",
       "    </tr>\n",
       "  </tbody>\n",
       "</table>\n",
       "</div>"
      ],
      "text/plain": [
       "    Unnamed: 0  Index            Fire ID         Cause   Latitude   Longitude  \\\n",
       "14          28     30  2015-COGWD-000216         Human  39.622206 -106.904911   \n",
       "15          29     31  2019-COMFX-000187         Human  40.239896 -108.895411   \n",
       "19          33     35  2018-COUPD-000251       Unknown  38.145376 -108.552111   \n",
       "22          37     41  2017-COWRD-000097  Undetermined  39.860576 -108.318411   \n",
       "45          86     94  2015-COGRX-000446       Natural  39.921107 -106.136210   \n",
       "\n",
       "   Country State  Acres Burned  Discovery Year  Discovery Month  \\\n",
       "14      US    CO           0.1            2015                7   \n",
       "15      US    CO          90.0            2019                7   \n",
       "19      US    CO           0.1            2018                7   \n",
       "22      US    CO           1.0            2017                6   \n",
       "45      US    CO           0.2            2015                9   \n",
       "\n",
       "    Discovery Day  Out Year  Out Month  Out Day  \n",
       "14              5      2015          7        5  \n",
       "15             28      2019          7       28  \n",
       "19             28      2018          7       28  \n",
       "22             12      2017          6       12  \n",
       "45             25      2015          9       25  "
      ]
     },
     "execution_count": 5,
     "metadata": {},
     "output_type": "execute_result"
    }
   ],
   "source": [
    "# Filter dataset for Colorado Data only\n",
    "\n",
    "CO_firedata_df = firedata_df[firedata_df[\"State\"].isin([\"CO\"])]\n",
    "CO_firedata_df.head()"
   ]
  },
  {
   "cell_type": "code",
   "execution_count": 6,
   "metadata": {},
   "outputs": [
    {
     "data": {
      "text/html": [
       "<div>\n",
       "<style scoped>\n",
       "    .dataframe tbody tr th:only-of-type {\n",
       "        vertical-align: middle;\n",
       "    }\n",
       "\n",
       "    .dataframe tbody tr th {\n",
       "        vertical-align: top;\n",
       "    }\n",
       "\n",
       "    .dataframe thead th {\n",
       "        text-align: right;\n",
       "    }\n",
       "</style>\n",
       "<table border=\"1\" class=\"dataframe\">\n",
       "  <thead>\n",
       "    <tr style=\"text-align: right;\">\n",
       "      <th></th>\n",
       "      <th>Acres Burned</th>\n",
       "    </tr>\n",
       "    <tr>\n",
       "      <th>Cause</th>\n",
       "      <th></th>\n",
       "    </tr>\n",
       "  </thead>\n",
       "  <tbody>\n",
       "    <tr>\n",
       "      <th>Human</th>\n",
       "      <td>440413.580</td>\n",
       "    </tr>\n",
       "    <tr>\n",
       "      <th>Natural</th>\n",
       "      <td>276125.385</td>\n",
       "    </tr>\n",
       "    <tr>\n",
       "      <th>Undetermined</th>\n",
       "      <td>24183.890</td>\n",
       "    </tr>\n",
       "    <tr>\n",
       "      <th>Unknown</th>\n",
       "      <td>271008.720</td>\n",
       "    </tr>\n",
       "  </tbody>\n",
       "</table>\n",
       "</div>"
      ],
      "text/plain": [
       "              Acres Burned\n",
       "Cause                     \n",
       "Human           440413.580\n",
       "Natural         276125.385\n",
       "Undetermined     24183.890\n",
       "Unknown         271008.720"
      ]
     },
     "execution_count": 6,
     "metadata": {},
     "output_type": "execute_result"
    }
   ],
   "source": [
    "# Sum Acreage by Fire Cause for Colorado Only\n",
    "cause_group_CO = CO_firedata_df.groupby(\"Cause\")\n",
    "cause_group_CO_df = pd.DataFrame(cause_group_CO[\"Acres Burned\"].sum())\n",
    "cause_group_CO_df"
   ]
  },
  {
   "cell_type": "code",
   "execution_count": 7,
   "metadata": {},
   "outputs": [
    {
     "data": {
      "image/png": "[encoded data removed]",
      "text/plain": [
       "<Figure size 432x288 with 1 Axes>"
      ]
     },
     "metadata": {},
     "output_type": "display_data"
    }
   ],
   "source": [
    "# Create Pie Graph for Fires burned by Cause for Colorado Only for all years in dataset\n",
    "pie_chart = cause_group_CO_df.plot(kind=\"pie\", y=\"Acres Burned\",title = \"Acres burned by Cause for Colorado Only\", \n",
    "                              startangle = 120, autopct='%1.1f%%', shadow=True, \n",
    "                              fontsize=12, colors=(\"green\",\"gold\", \"red\", \"blue\"), legend=False)\n",
    "\n",
    "plt.show()"
   ]
  },
  {
   "cell_type": "code",
   "execution_count": 8,
   "metadata": {},
   "outputs": [
    {
     "data": {
      "text/html": [
       "<div>\n",
       "<style scoped>\n",
       "    .dataframe tbody tr th:only-of-type {\n",
       "        vertical-align: middle;\n",
       "    }\n",
       "\n",
       "    .dataframe tbody tr th {\n",
       "        vertical-align: top;\n",
       "    }\n",
       "\n",
       "    .dataframe thead th {\n",
       "        text-align: right;\n",
       "    }\n",
       "</style>\n",
       "<table border=\"1\" class=\"dataframe\">\n",
       "  <thead>\n",
       "    <tr style=\"text-align: right;\">\n",
       "      <th></th>\n",
       "      <th>Unnamed: 0</th>\n",
       "      <th>Index</th>\n",
       "      <th>Fire ID</th>\n",
       "      <th>Cause</th>\n",
       "      <th>Latitude</th>\n",
       "      <th>Longitude</th>\n",
       "      <th>Country</th>\n",
       "      <th>State</th>\n",
       "      <th>Acres Burned</th>\n",
       "      <th>Discovery Year</th>\n",
       "      <th>Discovery Month</th>\n",
       "      <th>Discovery Day</th>\n",
       "      <th>Out Year</th>\n",
       "      <th>Out Month</th>\n",
       "      <th>Out Day</th>\n",
       "    </tr>\n",
       "  </thead>\n",
       "  <tbody>\n",
       "    <tr>\n",
       "      <th>14</th>\n",
       "      <td>28</td>\n",
       "      <td>30</td>\n",
       "      <td>2015-COGWD-000216</td>\n",
       "      <td>Human</td>\n",
       "      <td>39.622206</td>\n",
       "      <td>-106.904911</td>\n",
       "      <td>US</td>\n",
       "      <td>CO</td>\n",
       "      <td>0.1</td>\n",
       "      <td>2015</td>\n",
       "      <td>7</td>\n",
       "      <td>5</td>\n",
       "      <td>2015</td>\n",
       "      <td>7</td>\n",
       "      <td>5</td>\n",
       "    </tr>\n",
       "    <tr>\n",
       "      <th>15</th>\n",
       "      <td>29</td>\n",
       "      <td>31</td>\n",
       "      <td>2019-COMFX-000187</td>\n",
       "      <td>Human</td>\n",
       "      <td>40.239896</td>\n",
       "      <td>-108.895411</td>\n",
       "      <td>US</td>\n",
       "      <td>CO</td>\n",
       "      <td>90.0</td>\n",
       "      <td>2019</td>\n",
       "      <td>7</td>\n",
       "      <td>28</td>\n",
       "      <td>2019</td>\n",
       "      <td>7</td>\n",
       "      <td>28</td>\n",
       "    </tr>\n",
       "    <tr>\n",
       "      <th>19</th>\n",
       "      <td>33</td>\n",
       "      <td>35</td>\n",
       "      <td>2018-COUPD-000251</td>\n",
       "      <td>Unknown</td>\n",
       "      <td>38.145376</td>\n",
       "      <td>-108.552111</td>\n",
       "      <td>US</td>\n",
       "      <td>CO</td>\n",
       "      <td>0.1</td>\n",
       "      <td>2018</td>\n",
       "      <td>7</td>\n",
       "      <td>28</td>\n",
       "      <td>2018</td>\n",
       "      <td>7</td>\n",
       "      <td>28</td>\n",
       "    </tr>\n",
       "    <tr>\n",
       "      <th>22</th>\n",
       "      <td>37</td>\n",
       "      <td>41</td>\n",
       "      <td>2017-COWRD-000097</td>\n",
       "      <td>Undetermined</td>\n",
       "      <td>39.860576</td>\n",
       "      <td>-108.318411</td>\n",
       "      <td>US</td>\n",
       "      <td>CO</td>\n",
       "      <td>1.0</td>\n",
       "      <td>2017</td>\n",
       "      <td>6</td>\n",
       "      <td>12</td>\n",
       "      <td>2017</td>\n",
       "      <td>6</td>\n",
       "      <td>12</td>\n",
       "    </tr>\n",
       "    <tr>\n",
       "      <th>45</th>\n",
       "      <td>86</td>\n",
       "      <td>94</td>\n",
       "      <td>2015-COGRX-000446</td>\n",
       "      <td>Natural</td>\n",
       "      <td>39.921107</td>\n",
       "      <td>-106.136210</td>\n",
       "      <td>US</td>\n",
       "      <td>CO</td>\n",
       "      <td>0.2</td>\n",
       "      <td>2015</td>\n",
       "      <td>9</td>\n",
       "      <td>25</td>\n",
       "      <td>2015</td>\n",
       "      <td>9</td>\n",
       "      <td>25</td>\n",
       "    </tr>\n",
       "  </tbody>\n",
       "</table>\n",
       "</div>"
      ],
      "text/plain": [
       "    Unnamed: 0  Index            Fire ID         Cause   Latitude   Longitude  \\\n",
       "14          28     30  2015-COGWD-000216         Human  39.622206 -106.904911   \n",
       "15          29     31  2019-COMFX-000187         Human  40.239896 -108.895411   \n",
       "19          33     35  2018-COUPD-000251       Unknown  38.145376 -108.552111   \n",
       "22          37     41  2017-COWRD-000097  Undetermined  39.860576 -108.318411   \n",
       "45          86     94  2015-COGRX-000446       Natural  39.921107 -106.136210   \n",
       "\n",
       "   Country State  Acres Burned  Discovery Year  Discovery Month  \\\n",
       "14      US    CO           0.1            2015                7   \n",
       "15      US    CO          90.0            2019                7   \n",
       "19      US    CO           0.1            2018                7   \n",
       "22      US    CO           1.0            2017                6   \n",
       "45      US    CO           0.2            2015                9   \n",
       "\n",
       "    Discovery Day  Out Year  Out Month  Out Day  \n",
       "14              5      2015          7        5  \n",
       "15             28      2019          7       28  \n",
       "19             28      2018          7       28  \n",
       "22             12      2017          6       12  \n",
       "45             25      2015          9       25  "
      ]
     },
     "execution_count": 8,
     "metadata": {},
     "output_type": "execute_result"
    }
   ],
   "source": [
    "# Filter CO Firedata for 2015-2019\n",
    "\n",
    "CO_firedata_recent_df = CO_firedata_df[CO_firedata_df[\"Discovery Year\"].isin([\"2015\", \"2016\", \"2017\", \"2018\", \"2019\"])]\n",
    "CO_firedata_recent_df.head()"
   ]
  },
  {
   "cell_type": "code",
   "execution_count": 9,
   "metadata": {},
   "outputs": [
    {
     "data": {
      "text/html": [
       "<div>\n",
       "<style scoped>\n",
       "    .dataframe tbody tr th:only-of-type {\n",
       "        vertical-align: middle;\n",
       "    }\n",
       "\n",
       "    .dataframe tbody tr th {\n",
       "        vertical-align: top;\n",
       "    }\n",
       "\n",
       "    .dataframe thead th {\n",
       "        text-align: right;\n",
       "    }\n",
       "</style>\n",
       "<table border=\"1\" class=\"dataframe\">\n",
       "  <thead>\n",
       "    <tr style=\"text-align: right;\">\n",
       "      <th></th>\n",
       "      <th>Number of Fires</th>\n",
       "    </tr>\n",
       "    <tr>\n",
       "      <th>Discovery Year</th>\n",
       "      <th></th>\n",
       "    </tr>\n",
       "  </thead>\n",
       "  <tbody>\n",
       "    <tr>\n",
       "      <th>2015</th>\n",
       "      <td>602</td>\n",
       "    </tr>\n",
       "    <tr>\n",
       "      <th>2016</th>\n",
       "      <td>954</td>\n",
       "    </tr>\n",
       "    <tr>\n",
       "      <th>2017</th>\n",
       "      <td>794</td>\n",
       "    </tr>\n",
       "    <tr>\n",
       "      <th>2018</th>\n",
       "      <td>1196</td>\n",
       "    </tr>\n",
       "    <tr>\n",
       "      <th>2019</th>\n",
       "      <td>802</td>\n",
       "    </tr>\n",
       "  </tbody>\n",
       "</table>\n",
       "</div>"
      ],
      "text/plain": [
       "                Number of Fires\n",
       "Discovery Year                 \n",
       "2015                        602\n",
       "2016                        954\n",
       "2017                        794\n",
       "2018                       1196\n",
       "2019                        802"
      ]
     },
     "execution_count": 9,
     "metadata": {},
     "output_type": "execute_result"
    }
   ],
   "source": [
    "# Count Number of Fires by Year for Colorado Only\n",
    "count_fires_CO = CO_firedata_recent_df.groupby(\"Discovery Year\")\n",
    "count_fires_CO_df = pd.DataFrame(count_fires_CO[\"Fire ID\"].count())\n",
    "\n",
    "# Rename column for Number of Fires\n",
    "count_fires_CO_renamed_df = count_fires_CO_df.rename(columns = {\"Fire ID\":\"Number of Fires\"})\n",
    "\n",
    "count_fires_CO_renamed_df\n"
   ]
  },
  {
   "cell_type": "code",
   "execution_count": 10,
   "metadata": {},
   "outputs": [
    {
     "data": {
      "text/plain": [
       "Int64Index([2015, 2016, 2017, 2018, 2019], dtype='int64', name='Discovery Year')"
      ]
     },
     "execution_count": 10,
     "metadata": {},
     "output_type": "execute_result"
    }
   ],
   "source": [
    "# Convert index to column\n",
    "\n",
    "index = count_fires_CO_renamed_df.index\n",
    "index"
   ]
  },
  {
   "cell_type": "code",
   "execution_count": 11,
   "metadata": {},
   "outputs": [
    {
     "data": {
      "text/plain": [
       "Text(0.5, 1.0, 'Number of Fires by Year in Colorado')"
      ]
     },
     "execution_count": 11,
     "metadata": {},
     "output_type": "execute_result"
    },
    {
     "data": {
      "image/png": "[encoded data removed]",
      "text/plain": [
       "<Figure size 432x288 with 1 Axes>"
      ]
     },
     "metadata": {
      "needs_background": "light"
     },
     "output_type": "display_data"
    }
   ],
   "source": [
    "# Create Bar chart for Number of Fires in Colorado by year\n",
    "\n",
    "x_axis=index\n",
    "y_axis=count_fires_CO_renamed_df[\"Number of Fires\"]\n",
    "plt.bar(x_axis, y_axis, color='r', alpha=0.6, align='center')\n",
    "plt.xlabel(\"Year\")\n",
    "plt.ylabel(\"Number of Fires\")\n",
    "plt.title(\"Number of Fires by Year in Colorado\")\n"
   ]
  },
  {
   "cell_type": "code",
   "execution_count": 12,
   "metadata": {},
   "outputs": [
    {
     "data": {
      "text/html": [
       "<div>\n",
       "<style scoped>\n",
       "    .dataframe tbody tr th:only-of-type {\n",
       "        vertical-align: middle;\n",
       "    }\n",
       "\n",
       "    .dataframe tbody tr th {\n",
       "        vertical-align: top;\n",
       "    }\n",
       "\n",
       "    .dataframe thead th {\n",
       "        text-align: right;\n",
       "    }\n",
       "</style>\n",
       "<table border=\"1\" class=\"dataframe\">\n",
       "  <thead>\n",
       "    <tr style=\"text-align: right;\">\n",
       "      <th></th>\n",
       "      <th>Acres Burned</th>\n",
       "    </tr>\n",
       "    <tr>\n",
       "      <th>Discovery Year</th>\n",
       "      <th></th>\n",
       "    </tr>\n",
       "  </thead>\n",
       "  <tbody>\n",
       "    <tr>\n",
       "      <th>2015</th>\n",
       "      <td>10177.700</td>\n",
       "    </tr>\n",
       "    <tr>\n",
       "      <th>2016</th>\n",
       "      <td>110153.095</td>\n",
       "    </tr>\n",
       "    <tr>\n",
       "      <th>2017</th>\n",
       "      <td>67968.940</td>\n",
       "    </tr>\n",
       "    <tr>\n",
       "      <th>2018</th>\n",
       "      <td>495431.910</td>\n",
       "    </tr>\n",
       "    <tr>\n",
       "      <th>2019</th>\n",
       "      <td>38173.540</td>\n",
       "    </tr>\n",
       "  </tbody>\n",
       "</table>\n",
       "</div>"
      ],
      "text/plain": [
       "                Acres Burned\n",
       "Discovery Year              \n",
       "2015               10177.700\n",
       "2016              110153.095\n",
       "2017               67968.940\n",
       "2018              495431.910\n",
       "2019               38173.540"
      ]
     },
     "execution_count": 12,
     "metadata": {},
     "output_type": "execute_result"
    }
   ],
   "source": [
    "# Sum total Acres by Year for Colorado Only\n",
    "sum_acres_CO = CO_firedata_recent_df.groupby(\"Discovery Year\")\n",
    "sum_acres_CO_df = pd.DataFrame(sum_acres_CO[\"Acres Burned\"].sum())\n",
    "\n",
    "# Rename column for Number of Fires\n",
    "#count_fires_CO_renamed_df = count_fires_CO_df.rename(columns = {\"Fire ID\":\"Number of Fires\"})\n",
    "\n",
    "sum_acres_CO_df"
   ]
  },
  {
   "cell_type": "code",
   "execution_count": 13,
   "metadata": {
    "scrolled": true
   },
   "outputs": [
    {
     "data": {
      "text/plain": [
       "Int64Index([2015, 2016, 2017, 2018, 2019], dtype='int64', name='Discovery Year')"
      ]
     },
     "execution_count": 13,
     "metadata": {},
     "output_type": "execute_result"
    }
   ],
   "source": [
    "# Convert index to column\n",
    "\n",
    "index2 = sum_acres_CO_df.index\n",
    "index2"
   ]
  },
  {
   "cell_type": "code",
   "execution_count": 14,
   "metadata": {},
   "outputs": [
    {
     "data": {
      "text/plain": [
       "Text(0.5, 1.0, 'Total Acres Burned by Year in Colorado')"
      ]
     },
     "execution_count": 14,
     "metadata": {},
     "output_type": "execute_result"
    },
    {
     "data": {
      "image/png": "[encoded data removed]",
      "text/plain": [
       "<Figure size 432x288 with 1 Axes>"
      ]
     },
     "metadata": {
      "needs_background": "light"
     },
     "output_type": "display_data"
    }
   ],
   "source": [
    "# Create Bar chart for Total Acres burned in Colorado by year\n",
    "\n",
    "x_axis=index2\n",
    "y_axis=sum_acres_CO_df[\"Acres Burned\"]\n",
    "plt.bar(x_axis, y_axis, color='g', alpha=0.7, align='center')\n",
    "plt.xlabel(\"Year\")\n",
    "plt.ylabel(\"Acres Burned\")\n",
    "plt.title(\"Total Acres Burned by Year in Colorado\")\n"
   ]
  },
  {
   "cell_type": "code",
   "execution_count": 15,
   "metadata": {},
   "outputs": [
    {
     "data": {
      "text/html": [
       "<div>\n",
       "<style scoped>\n",
       "    .dataframe tbody tr th:only-of-type {\n",
       "        vertical-align: middle;\n",
       "    }\n",
       "\n",
       "    .dataframe tbody tr th {\n",
       "        vertical-align: top;\n",
       "    }\n",
       "\n",
       "    .dataframe thead th {\n",
       "        text-align: right;\n",
       "    }\n",
       "</style>\n",
       "<table border=\"1\" class=\"dataframe\">\n",
       "  <thead>\n",
       "    <tr style=\"text-align: right;\">\n",
       "      <th></th>\n",
       "      <th>Acres Burned</th>\n",
       "    </tr>\n",
       "    <tr>\n",
       "      <th>Discovery Year</th>\n",
       "      <th></th>\n",
       "    </tr>\n",
       "  </thead>\n",
       "  <tbody>\n",
       "    <tr>\n",
       "      <th>2015</th>\n",
       "      <td>16.906478</td>\n",
       "    </tr>\n",
       "    <tr>\n",
       "      <th>2016</th>\n",
       "      <td>115.464460</td>\n",
       "    </tr>\n",
       "    <tr>\n",
       "      <th>2017</th>\n",
       "      <td>85.603199</td>\n",
       "    </tr>\n",
       "    <tr>\n",
       "      <th>2018</th>\n",
       "      <td>414.240727</td>\n",
       "    </tr>\n",
       "    <tr>\n",
       "      <th>2019</th>\n",
       "      <td>47.597930</td>\n",
       "    </tr>\n",
       "  </tbody>\n",
       "</table>\n",
       "</div>"
      ],
      "text/plain": [
       "                Acres Burned\n",
       "Discovery Year              \n",
       "2015               16.906478\n",
       "2016              115.464460\n",
       "2017               85.603199\n",
       "2018              414.240727\n",
       "2019               47.597930"
      ]
     },
     "execution_count": 15,
     "metadata": {},
     "output_type": "execute_result"
    }
   ],
   "source": [
    "# Average Acres by fire by Year for Colorado Only\n",
    "avg_acres_CO = CO_firedata_recent_df.groupby(\"Discovery Year\")\n",
    "avg_acres_CO_df = pd.DataFrame(avg_acres_CO[\"Acres Burned\"].mean())\n",
    "avg_acres_CO_df "
   ]
  },
  {
   "cell_type": "code",
   "execution_count": 18,
   "metadata": {},
   "outputs": [
    {
     "data": {
      "text/html": [
       "<div>\n",
       "<style scoped>\n",
       "    .dataframe tbody tr th:only-of-type {\n",
       "        vertical-align: middle;\n",
       "    }\n",
       "\n",
       "    .dataframe tbody tr th {\n",
       "        vertical-align: top;\n",
       "    }\n",
       "\n",
       "    .dataframe thead th {\n",
       "        text-align: right;\n",
       "    }\n",
       "</style>\n",
       "<table border=\"1\" class=\"dataframe\">\n",
       "  <thead>\n",
       "    <tr style=\"text-align: right;\">\n",
       "      <th></th>\n",
       "      <th>Unnamed: 0</th>\n",
       "      <th>Index</th>\n",
       "      <th>Fire ID</th>\n",
       "      <th>Cause</th>\n",
       "      <th>Latitude</th>\n",
       "      <th>Longitude</th>\n",
       "      <th>Country</th>\n",
       "      <th>State</th>\n",
       "      <th>Acres Burned</th>\n",
       "      <th>Discovery Year</th>\n",
       "      <th>Discovery Month</th>\n",
       "      <th>Discovery Day</th>\n",
       "      <th>Out Year</th>\n",
       "      <th>Out Month</th>\n",
       "      <th>Out Day</th>\n",
       "    </tr>\n",
       "  </thead>\n",
       "  <tbody>\n",
       "    <tr>\n",
       "      <th>1</th>\n",
       "      <td>2</td>\n",
       "      <td>3</td>\n",
       "      <td>2017-MTNWS-000878</td>\n",
       "      <td>Human</td>\n",
       "      <td>48.073946</td>\n",
       "      <td>-114.835414</td>\n",
       "      <td>US</td>\n",
       "      <td>MT</td>\n",
       "      <td>50.0</td>\n",
       "      <td>2017</td>\n",
       "      <td>10</td>\n",
       "      <td>17</td>\n",
       "      <td>2017</td>\n",
       "      <td>10</td>\n",
       "      <td>17</td>\n",
       "    </tr>\n",
       "    <tr>\n",
       "      <th>3</th>\n",
       "      <td>6</td>\n",
       "      <td>7</td>\n",
       "      <td>2019-UTUWF-000883</td>\n",
       "      <td>Unknown</td>\n",
       "      <td>40.072836</td>\n",
       "      <td>-111.414812</td>\n",
       "      <td>US</td>\n",
       "      <td>UT</td>\n",
       "      <td>170.0</td>\n",
       "      <td>2019</td>\n",
       "      <td>10</td>\n",
       "      <td>26</td>\n",
       "      <td>2019</td>\n",
       "      <td>10</td>\n",
       "      <td>26</td>\n",
       "    </tr>\n",
       "    <tr>\n",
       "      <th>6</th>\n",
       "      <td>11</td>\n",
       "      <td>13</td>\n",
       "      <td>2019-AZA5S-001664</td>\n",
       "      <td>Natural</td>\n",
       "      <td>34.403275</td>\n",
       "      <td>-112.439311</td>\n",
       "      <td>US</td>\n",
       "      <td>AZ</td>\n",
       "      <td>0.1</td>\n",
       "      <td>2019</td>\n",
       "      <td>9</td>\n",
       "      <td>5</td>\n",
       "      <td>2019</td>\n",
       "      <td>9</td>\n",
       "      <td>5</td>\n",
       "    </tr>\n",
       "    <tr>\n",
       "      <th>8</th>\n",
       "      <td>16</td>\n",
       "      <td>18</td>\n",
       "      <td>2016-UTSWS-000203</td>\n",
       "      <td>Natural</td>\n",
       "      <td>37.228126</td>\n",
       "      <td>-113.206312</td>\n",
       "      <td>US</td>\n",
       "      <td>UT</td>\n",
       "      <td>0.1</td>\n",
       "      <td>2016</td>\n",
       "      <td>6</td>\n",
       "      <td>13</td>\n",
       "      <td>2016</td>\n",
       "      <td>6</td>\n",
       "      <td>13</td>\n",
       "    </tr>\n",
       "    <tr>\n",
       "      <th>9</th>\n",
       "      <td>19</td>\n",
       "      <td>21</td>\n",
       "      <td>2019-MSMNF-050003</td>\n",
       "      <td>Human</td>\n",
       "      <td>31.558896</td>\n",
       "      <td>-88.749725</td>\n",
       "      <td>US</td>\n",
       "      <td>MS</td>\n",
       "      <td>5.0</td>\n",
       "      <td>2019</td>\n",
       "      <td>6</td>\n",
       "      <td>3</td>\n",
       "      <td>2019</td>\n",
       "      <td>6</td>\n",
       "      <td>3</td>\n",
       "    </tr>\n",
       "  </tbody>\n",
       "</table>\n",
       "</div>"
      ],
      "text/plain": [
       "   Unnamed: 0  Index            Fire ID    Cause   Latitude   Longitude  \\\n",
       "1           2      3  2017-MTNWS-000878    Human  48.073946 -114.835414   \n",
       "3           6      7  2019-UTUWF-000883  Unknown  40.072836 -111.414812   \n",
       "6          11     13  2019-AZA5S-001664  Natural  34.403275 -112.439311   \n",
       "8          16     18  2016-UTSWS-000203  Natural  37.228126 -113.206312   \n",
       "9          19     21  2019-MSMNF-050003    Human  31.558896  -88.749725   \n",
       "\n",
       "  Country State  Acres Burned  Discovery Year  Discovery Month  Discovery Day  \\\n",
       "1      US    MT          50.0            2017               10             17   \n",
       "3      US    UT         170.0            2019               10             26   \n",
       "6      US    AZ           0.1            2019                9              5   \n",
       "8      US    UT           0.1            2016                6             13   \n",
       "9      US    MS           5.0            2019                6              3   \n",
       "\n",
       "   Out Year  Out Month  Out Day  \n",
       "1      2017         10       17  \n",
       "3      2019         10       26  \n",
       "6      2019          9        5  \n",
       "8      2016          6       13  \n",
       "9      2019          6        3  "
      ]
     },
     "execution_count": 18,
     "metadata": {},
     "output_type": "execute_result"
    }
   ],
   "source": [
    "# Filter US Firedata for 2015-2019\n",
    "\n",
    "US_firedata_recent_df = firedata_df[firedata_df[\"Discovery Year\"].isin([\"2015\", \"2016\", \"2017\", \"2018\", \"2019\"])]\n",
    "US_firedata_recent_df.head()"
   ]
  },
  {
   "cell_type": "code",
   "execution_count": 19,
   "metadata": {},
   "outputs": [
    {
     "data": {
      "text/html": [
       "<div>\n",
       "<style scoped>\n",
       "    .dataframe tbody tr th:only-of-type {\n",
       "        vertical-align: middle;\n",
       "    }\n",
       "\n",
       "    .dataframe tbody tr th {\n",
       "        vertical-align: top;\n",
       "    }\n",
       "\n",
       "    .dataframe thead th {\n",
       "        text-align: right;\n",
       "    }\n",
       "</style>\n",
       "<table border=\"1\" class=\"dataframe\">\n",
       "  <thead>\n",
       "    <tr style=\"text-align: right;\">\n",
       "      <th></th>\n",
       "      <th>Number of Fires</th>\n",
       "    </tr>\n",
       "    <tr>\n",
       "      <th>Discovery Year</th>\n",
       "      <th></th>\n",
       "    </tr>\n",
       "  </thead>\n",
       "  <tbody>\n",
       "    <tr>\n",
       "      <th>2015</th>\n",
       "      <td>11844</td>\n",
       "    </tr>\n",
       "    <tr>\n",
       "      <th>2016</th>\n",
       "      <td>12869</td>\n",
       "    </tr>\n",
       "    <tr>\n",
       "      <th>2017</th>\n",
       "      <td>15675</td>\n",
       "    </tr>\n",
       "    <tr>\n",
       "      <th>2018</th>\n",
       "      <td>14804</td>\n",
       "    </tr>\n",
       "    <tr>\n",
       "      <th>2019</th>\n",
       "      <td>14309</td>\n",
       "    </tr>\n",
       "  </tbody>\n",
       "</table>\n",
       "</div>"
      ],
      "text/plain": [
       "                Number of Fires\n",
       "Discovery Year                 \n",
       "2015                      11844\n",
       "2016                      12869\n",
       "2017                      15675\n",
       "2018                      14804\n",
       "2019                      14309"
      ]
     },
     "execution_count": 19,
     "metadata": {},
     "output_type": "execute_result"
    }
   ],
   "source": [
    "# Count Number of Fires by Year for all of U.S.\n",
    "count_fires_US = US_firedata_recent_df.groupby(\"Discovery Year\")\n",
    "count_fires_US_df = pd.DataFrame(count_fires_US[\"Fire ID\"].count())\n",
    "\n",
    "# Rename column for Number of Fires\n",
    "count_fires_US_renamed_df = count_fires_US_df.rename(columns = {\"Fire ID\":\"Number of Fires\"})\n",
    "\n",
    "count_fires_US_renamed_df"
   ]
  },
  {
   "cell_type": "code",
   "execution_count": 20,
   "metadata": {},
   "outputs": [
    {
     "data": {
      "text/plain": [
       "Int64Index([2015, 2016, 2017, 2018, 2019], dtype='int64', name='Discovery Year')"
      ]
     },
     "execution_count": 20,
     "metadata": {},
     "output_type": "execute_result"
    }
   ],
   "source": [
    "# Convert index to column\n",
    "\n",
    "index = count_fires_US_renamed_df.index\n",
    "index"
   ]
  },
  {
   "cell_type": "code",
   "execution_count": 44,
   "metadata": {},
   "outputs": [
    {
     "data": {
      "text/plain": [
       "Text(0.5, 1.0, 'Number of Fires by Year in U.S. 2015-2019')"
      ]
     },
     "execution_count": 44,
     "metadata": {},
     "output_type": "execute_result"
    },
    {
     "data": {
      "image/png": "[encoded data removed]",
      "text/plain": [
       "<Figure size 432x288 with 1 Axes>"
      ]
     },
     "metadata": {
      "needs_background": "light"
     },
     "output_type": "display_data"
    }
   ],
   "source": [
    "# Create Bar chart for Number of Fires in US by year\n",
    "\n",
    "x_axis=index\n",
    "y_axis=count_fires_US_renamed_df[\"Number of Fires\"]\n",
    "plt.bar(x_axis, y_axis, color='r', alpha=0.6, align='center')\n",
    "plt.xlabel(\"Year\")\n",
    "plt.ylabel(\"Number of Fires\")\n",
    "plt.title(\"Number of Fires by Year in U.S. 2015-2019\")\n"
   ]
  },
  {
   "cell_type": "code",
   "execution_count": 28,
   "metadata": {},
   "outputs": [
    {
     "data": {
      "text/html": [
       "<div>\n",
       "<style scoped>\n",
       "    .dataframe tbody tr th:only-of-type {\n",
       "        vertical-align: middle;\n",
       "    }\n",
       "\n",
       "    .dataframe tbody tr th {\n",
       "        vertical-align: top;\n",
       "    }\n",
       "\n",
       "    .dataframe thead th {\n",
       "        text-align: right;\n",
       "    }\n",
       "</style>\n",
       "<table border=\"1\" class=\"dataframe\">\n",
       "  <thead>\n",
       "    <tr style=\"text-align: right;\">\n",
       "      <th></th>\n",
       "      <th>Acres Burned</th>\n",
       "    </tr>\n",
       "    <tr>\n",
       "      <th>Discovery Year</th>\n",
       "      <th></th>\n",
       "    </tr>\n",
       "  </thead>\n",
       "  <tbody>\n",
       "    <tr>\n",
       "      <th>2015</th>\n",
       "      <td>9.374966e+06</td>\n",
       "    </tr>\n",
       "    <tr>\n",
       "      <th>2016</th>\n",
       "      <td>3.765966e+06</td>\n",
       "    </tr>\n",
       "    <tr>\n",
       "      <th>2017</th>\n",
       "      <td>7.015263e+06</td>\n",
       "    </tr>\n",
       "    <tr>\n",
       "      <th>2018</th>\n",
       "      <td>7.193967e+06</td>\n",
       "    </tr>\n",
       "    <tr>\n",
       "      <th>2019</th>\n",
       "      <td>4.610154e+06</td>\n",
       "    </tr>\n",
       "  </tbody>\n",
       "</table>\n",
       "</div>"
      ],
      "text/plain": [
       "                Acres Burned\n",
       "Discovery Year              \n",
       "2015            9.374966e+06\n",
       "2016            3.765966e+06\n",
       "2017            7.015263e+06\n",
       "2018            7.193967e+06\n",
       "2019            4.610154e+06"
      ]
     },
     "execution_count": 28,
     "metadata": {},
     "output_type": "execute_result"
    }
   ],
   "source": [
    "# Sum total Acres by Year for all of U.S.\n",
    "sum_acres_US = US_firedata_recent_df.groupby(\"Discovery Year\")\n",
    "sum_acres_US_df = pd.DataFrame(sum_acres_US[\"Acres Burned\"].sum())\n",
    "\n",
    "# Rename column for Number of Fires\n",
    "#count_fires_CO_renamed_df = count_fires_CO_df.rename(columns = {\"Fire ID\":\"Number of Fires\"})\n",
    "\n",
    "sum_acres_US_df"
   ]
  },
  {
   "cell_type": "code",
   "execution_count": 29,
   "metadata": {},
   "outputs": [
    {
     "data": {
      "text/plain": [
       "Int64Index([2015, 2016, 2017, 2018, 2019], dtype='int64', name='Discovery Year')"
      ]
     },
     "execution_count": 29,
     "metadata": {},
     "output_type": "execute_result"
    }
   ],
   "source": [
    "# Convert index to column\n",
    "\n",
    "index2 = sum_acres_US_df.index\n",
    "index2"
   ]
  },
  {
   "cell_type": "code",
   "execution_count": 47,
   "metadata": {},
   "outputs": [
    {
     "data": {
      "text/plain": [
       "Text(0.5, 1.0, 'Total Acres Burned by Year in U.S. 2015-2019')"
      ]
     },
     "execution_count": 47,
     "metadata": {},
     "output_type": "execute_result"
    },
    {
     "data": {
      "image/png": "[encoded data removed]",
      "text/plain": [
       "<Figure size 432x288 with 1 Axes>"
      ]
     },
     "metadata": {
      "needs_background": "light"
     },
     "output_type": "display_data"
    }
   ],
   "source": [
    "# Create Bar chart for Total Acres burned in U.S. by year\n",
    "\n",
    "x_axis=index2\n",
    "y_axis=sum_acres_US_df[\"Acres Burned\"]\n",
    "plt.bar(x_axis, y_axis, color='g', alpha=0.7, align='center')\n",
    "plt.xlabel(\"Year\")\n",
    "plt.ylabel(\"Acres Burned (in Millions)\")\n",
    "plt.title(\"Total Acres Burned by Year in U.S. 2015-2019\")\n"
   ]
  },
  {
   "cell_type": "code",
   "execution_count": 33,
   "metadata": {},
   "outputs": [
    {
     "data": {
      "text/html": [
       "<div>\n",
       "<style scoped>\n",
       "    .dataframe tbody tr th:only-of-type {\n",
       "        vertical-align: middle;\n",
       "    }\n",
       "\n",
       "    .dataframe tbody tr th {\n",
       "        vertical-align: top;\n",
       "    }\n",
       "\n",
       "    .dataframe thead th {\n",
       "        text-align: right;\n",
       "    }\n",
       "</style>\n",
       "<table border=\"1\" class=\"dataframe\">\n",
       "  <thead>\n",
       "    <tr style=\"text-align: right;\">\n",
       "      <th></th>\n",
       "      <th>Acres Burned</th>\n",
       "    </tr>\n",
       "    <tr>\n",
       "      <th>Cause</th>\n",
       "      <th></th>\n",
       "    </tr>\n",
       "  </thead>\n",
       "  <tbody>\n",
       "    <tr>\n",
       "      <th>Human</th>\n",
       "      <td>6.480892e+06</td>\n",
       "    </tr>\n",
       "    <tr>\n",
       "      <th>Natural</th>\n",
       "      <td>2.034090e+07</td>\n",
       "    </tr>\n",
       "    <tr>\n",
       "      <th>Undetermined</th>\n",
       "      <td>2.456620e+06</td>\n",
       "    </tr>\n",
       "    <tr>\n",
       "      <th>Unknown</th>\n",
       "      <td>2.681903e+06</td>\n",
       "    </tr>\n",
       "  </tbody>\n",
       "</table>\n",
       "</div>"
      ],
      "text/plain": [
       "              Acres Burned\n",
       "Cause                     \n",
       "Human         6.480892e+06\n",
       "Natural       2.034090e+07\n",
       "Undetermined  2.456620e+06\n",
       "Unknown       2.681903e+06"
      ]
     },
     "execution_count": 33,
     "metadata": {},
     "output_type": "execute_result"
    }
   ],
   "source": [
    "# Sum Acreage by Fire Cause for all of US in 2015-2019\n",
    "cause_group_US = US_firedata_recent_df.groupby(\"Cause\")\n",
    "cause_group_US_df = pd.DataFrame(cause_group_US[\"Acres Burned\"].sum())\n",
    "cause_group_US_df"
   ]
  },
  {
   "cell_type": "code",
   "execution_count": 39,
   "metadata": {},
   "outputs": [
    {
     "data": {
      "image/png": "[encoded data removed]",
      "text/plain": [
       "<Figure size 432x288 with 1 Axes>"
      ]
     },
     "metadata": {},
     "output_type": "display_data"
    }
   ],
   "source": [
    "# Create Pie Graph for Fires burned by Cause for all of the U.S. for 2015-2019\n",
    "pie_chart = cause_group_df.plot(kind=\"pie\", y=\"Acres Burned\",title = \"Acres burned by Cause for all of the U.S.\", \n",
    "                              startangle = 120, autopct='%1.1f%%', shadow=True, \n",
    "                              fontsize=12, colors=(\"maroon\",\"yellow\", \"orange\", \"red\"), legend=False)\n",
    "\n",
    "plt.show()"
   ]
  },
  {
   "cell_type": "code",
   "execution_count": 35,
   "metadata": {},
   "outputs": [
    {
     "data": {
      "text/html": [
       "<div>\n",
       "<style scoped>\n",
       "    .dataframe tbody tr th:only-of-type {\n",
       "        vertical-align: middle;\n",
       "    }\n",
       "\n",
       "    .dataframe tbody tr th {\n",
       "        vertical-align: top;\n",
       "    }\n",
       "\n",
       "    .dataframe thead th {\n",
       "        text-align: right;\n",
       "    }\n",
       "</style>\n",
       "<table border=\"1\" class=\"dataframe\">\n",
       "  <thead>\n",
       "    <tr style=\"text-align: right;\">\n",
       "      <th></th>\n",
       "      <th>Acres Burned</th>\n",
       "    </tr>\n",
       "    <tr>\n",
       "      <th>Cause</th>\n",
       "      <th></th>\n",
       "    </tr>\n",
       "  </thead>\n",
       "  <tbody>\n",
       "    <tr>\n",
       "      <th>Human</th>\n",
       "      <td>428302.780</td>\n",
       "    </tr>\n",
       "    <tr>\n",
       "      <th>Natural</th>\n",
       "      <td>216261.625</td>\n",
       "    </tr>\n",
       "    <tr>\n",
       "      <th>Undetermined</th>\n",
       "      <td>4608.790</td>\n",
       "    </tr>\n",
       "    <tr>\n",
       "      <th>Unknown</th>\n",
       "      <td>72731.990</td>\n",
       "    </tr>\n",
       "  </tbody>\n",
       "</table>\n",
       "</div>"
      ],
      "text/plain": [
       "              Acres Burned\n",
       "Cause                     \n",
       "Human           428302.780\n",
       "Natural         216261.625\n",
       "Undetermined      4608.790\n",
       "Unknown          72731.990"
      ]
     },
     "execution_count": 35,
     "metadata": {},
     "output_type": "execute_result"
    }
   ],
   "source": [
    "# Sum Acreage by Fire Cause for Colorado Only\n",
    "cause_group_CO = CO_firedata_recent_df.groupby(\"Cause\")\n",
    "cause_group_CO_df = pd.DataFrame(cause_group_CO[\"Acres Burned\"].sum())\n",
    "cause_group_CO_df"
   ]
  },
  {
   "cell_type": "code",
   "execution_count": 43,
   "metadata": {},
   "outputs": [
    {
     "data": {
      "image/png": "[encoded data removed]",
      "text/plain": [
       "<Figure size 432x288 with 1 Axes>"
      ]
     },
     "metadata": {},
     "output_type": "display_data"
    }
   ],
   "source": [
    "# Create Pie Graph for Fires burned by Cause for Colorado for 2015-2019\n",
    "pie_chart = cause_group_CO_df.plot(kind=\"pie\", y=\"Acres Burned\",title = \"Acres burned by Cause for Colorado Only\", \n",
    "                              startangle = 120, autopct='%1.1f%%', shadow=True, \n",
    "                              fontsize=10, colors=(\"maroon\",\"yellow\", \"orange\", \"red\"), legend=False)\n",
    "\n",
    "plt.show()"
   ]
  },
  {
   "cell_type": "code",
   "execution_count": null,
   "metadata": {},
   "outputs": [],
   "source": []
  }
 ],
 "metadata": {
  "kernelspec": {
   "display_name": "Python 3",
   "language": "python",
   "name": "python3"
  },
  "language_info": {
   "codemirror_mode": {
    "name": "ipython",
    "version": 3
   },
   "file_extension": ".py",
   "mimetype": "text/x-python",
   "name": "python",
   "nbconvert_exporter": "python",
   "pygments_lexer": "ipython3",
   "version": "3.8.5"
  }
 },
 "nbformat": 4,
 "nbformat_minor": 4
}
